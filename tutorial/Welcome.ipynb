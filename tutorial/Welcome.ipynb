{
 "cells": [
  {
   "cell_type": "markdown",
   "metadata": {},
   "source": [
    "# WELCOME TO DEEPNANO TUTORIALS\n",
    "\n",
    "To learn how to use DEEPNANO, begin with our Getting Started Tutorials. \n",
    "\n",
    "## SET UP\n",
    "\n",
    "In order to use provided python utils package it is stronlgy recommended to use\n",
    "[Anaconda package](https://www.anaconda.com/).\n",
    "\n",
    "### GitLab\n",
    "\n",
    "Clone this project along with an auxillary nanocpp-extras package to your local workstation. \n",
    "\n",
    "```sh\n",
    "$ git clone https://gitlab.kaust.edu.sa/primalight/nanocpp-extras\n",
    "$ git clone https://gitlab.kaust.edu.sa/primalight/deepnano\n",
    "```\n",
    "\n",
    "### GETTING DATA\n",
    "\n",
    "???\n",
    "\n",
    "### PYTHON SETTING\n",
    "\n",
    "In this section I assume that you are using Anaconda package. \n",
    "\n",
    "First of all, I recommend you to create a separate virtual environment for this tasks. \n",
    "To do that, simply create an environment from provided 'prima.yml' file\n",
    "by typing \n",
    "\n",
    "```bash\n",
    "conda env create -f tensorflow.yml\n",
    "```\n",
    "\n",
    "in your terminal. \n",
    "\n",
    "Next step is to add code folders to your PYTHONPATH variable.\n",
    "\n",
    "I recommend you to add the following strings to your .bashrc file\n",
    "\n",
    "```bash\n",
    "export DATADIR=\"path-to/data/\"\n",
    "export PROJECT=\"path-to/project/\"\n",
    "export NANOCPP_UTILS=\"path-to/nanocpp-extras/utils\"\n",
    "export PYTHONPATH=${NANOCPP_UTILS}:${PYTHONPATH}\n",
    "``` \n",
    "\n",
    "That is pretty much all you need to do to start using DEEPNANO utils."
   ]
  },
  {
   "cell_type": "code",
   "execution_count": null,
   "metadata": {},
   "outputs": [],
   "source": []
  }
 ],
 "metadata": {
  "kernelspec": {
   "display_name": "tf",
   "language": "python",
   "name": "tf"
  },
  "language_info": {
   "codemirror_mode": {
    "name": "ipython",
    "version": 3
   },
   "file_extension": ".py",
   "mimetype": "text/x-python",
   "name": "python",
   "nbconvert_exporter": "python",
   "pygments_lexer": "ipython3",
   "version": "3.6.8"
  }
 },
 "nbformat": 4,
 "nbformat_minor": 2
}
